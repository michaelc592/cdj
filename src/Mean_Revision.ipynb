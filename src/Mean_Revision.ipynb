{
  "cells": [
    {
      "cell_type": "code",
      "execution_count": 14,
      "metadata": {
        "id": "W2314mFhapyr",
        "outputId": "d354766e-6754-4efa-c225-acbee539c651",
        "colab": {
          "base_uri": "https://localhost:8080/"
        }
      },
      "outputs": [
        {
          "output_type": "stream",
          "name": "stderr",
          "text": [
            "[*********************100%***********************]  1 of 1 completed\n",
            "[*********************100%***********************]  1 of 1 completed\n",
            "[*********************100%***********************]  1 of 1 completed\n",
            "[*********************100%***********************]  1 of 1 completed\n",
            "[*********************100%***********************]  1 of 1 completed\n",
            "[*********************100%***********************]  1 of 1 completed\n",
            "[*********************100%***********************]  1 of 1 completed\n",
            "[*********************100%***********************]  1 of 1 completed\n"
          ]
        }
      ],
      "source": [
        "import pandas as pd\n",
        "import numpy as np\n",
        "import yfinance as yf\n",
        "import matplotlib.pyplot as plt\n",
        "\n",
        "start_date = \"2022-10-01\"\n",
        "end_date = \"2024-10-01\"\n",
        "\n",
        "apple_data = yf.download(\"AAPL\", start_date, end_date)\n",
        "tesla_data = yf.download(\"TSLA\", start_date, end_date)\n",
        "pfizer_data = yf.download(\"PFE\", start_date, end_date)\n",
        "ford_data = yf.download(\"F\", start_date, end_date)\n",
        "exxon_data = yf.download(\"XOM\", start_date, end_date)\n",
        "spy_data = yf.download(\"SPY\", start_date, end_date)\n",
        "mcd_data = yf.download(\"MCD\", start_date, end_date, progress = True)\n",
        "\n",
        "\n",
        "apple_prices = apple_data['Close']\n",
        "tesla_prices = tesla_data['Close']\n",
        "pfizer_prices = pfizer_data['Close']\n",
        "ford_prices = ford_data['Close']\n",
        "exxon_prices = exxon_data['Close']\n",
        "spy_prices = spy_data['Close']\n",
        "mcd_prices = mcd_data['Adj Close']\n",
        "\n",
        "sp500_data = yf.download('^GSPC', start_date, end_date)\n",
        "sp500_close = sp500_data['Close']\n"
      ]
    },
    {
      "cell_type": "code",
      "execution_count": 14,
      "metadata": {
        "id": "DNiFDZqfapys"
      },
      "outputs": [],
      "source": []
    },
    {
      "cell_type": "code",
      "execution_count": 15,
      "metadata": {
        "id": "IQSTpbDHapys"
      },
      "outputs": [],
      "source": [
        "# Calculate the 20-day moving average\n",
        "moving_average_apple = apple_prices.rolling(window=20).mean()\n",
        "moving_average_tesla= tesla_prices.rolling(window=20).mean()\n",
        "moving_average_pfizer= pfizer_prices.rolling(window=20).mean()\n",
        "moving_average_ford = ford_prices.rolling(window=20).mean()\n",
        "moving_average_exxon= exxon_prices.rolling(window=20).mean()\n",
        "moving_average_spy= spy_prices.rolling(window=20).mean()\n",
        "moving_average_mcd= mcd_prices.rolling(window=20).mean()"
      ]
    },
    {
      "cell_type": "code",
      "execution_count": 16,
      "metadata": {
        "id": "_McfCd3Gapyt"
      },
      "outputs": [],
      "source": [
        "#code for mean revision\n",
        "\n",
        "def mean_reversion(prices, moving_average):\n",
        "    if prices[-1] > moving_average[-1]:\n",
        "        return \"sell\"\n",
        "    elif prices[-1] < moving_average[-1]:\n",
        "        return \"buy\"\n",
        "    else:\n",
        "        return \"hold\""
      ]
    },
    {
      "cell_type": "code",
      "execution_count": 17,
      "metadata": {
        "id": "S9LaFlawapyt"
      },
      "outputs": [],
      "source": [
        "\n",
        "\n",
        "# function for backtesting\n",
        "def backtest(prices, moving_average, initial_capital=10000, window_size=20):\n",
        "    cash = initial_capital\n",
        "    shares = 0\n",
        "    portfolio_values = []\n",
        "\n",
        "    for i in range(window_size, len(prices)):\n",
        "        signal = mean_reversion(prices[:i+1], moving_average[:i+1])\n",
        "        current_price = prices[i]\n",
        "\n",
        "        if signal == \"buy\" and cash > current_price:\n",
        "            # Buy as much stock as possible with the cash\n",
        "            shares_to_buy = cash // current_price\n",
        "            cash -= shares_to_buy * current_price\n",
        "            shares += shares_to_buy\n",
        "        elif signal == \"sell\" and shares > 0:\n",
        "            # Sell all\n",
        "            cash += shares * current_price\n",
        "            shares = 0\n",
        "\n",
        "        # calculate total portfolio value\n",
        "        portfolio_value = cash + shares * current_price\n",
        "        portfolio_values.append(portfolio_value)\n",
        "\n",
        "    # put results in a DataFrame\n",
        "    backtest_results = pd.DataFrame({\n",
        "        'Date': prices.index[window_size:],\n",
        "        'Portfolio Value': portfolio_values\n",
        "    })\n",
        "    backtest_results.set_index('Date', inplace=True)\n",
        "\n",
        "    return backtest_results\n",
        "\n"
      ]
    },
    {
      "cell_type": "code",
      "execution_count": 18,
      "metadata": {
        "id": "sIgxyaGEapyt",
        "outputId": "01b9d502-1962-4db5-9525-53ab24ac6ded",
        "colab": {
          "base_uri": "https://localhost:8080/",
          "height": 547
        }
      },
      "outputs": [
        {
          "output_type": "error",
          "ename": "KeyError",
          "evalue": "-1",
          "traceback": [
            "\u001b[0;31m---------------------------------------------------------------------------\u001b[0m",
            "\u001b[0;31mKeyError\u001b[0m                                  Traceback (most recent call last)",
            "\u001b[0;32m/usr/local/lib/python3.10/dist-packages/pandas/core/indexes/base.py\u001b[0m in \u001b[0;36mget_loc\u001b[0;34m(self, key)\u001b[0m\n\u001b[1;32m   3804\u001b[0m         \u001b[0;32mtry\u001b[0m\u001b[0;34m:\u001b[0m\u001b[0;34m\u001b[0m\u001b[0;34m\u001b[0m\u001b[0m\n\u001b[0;32m-> 3805\u001b[0;31m             \u001b[0;32mreturn\u001b[0m \u001b[0mself\u001b[0m\u001b[0;34m.\u001b[0m\u001b[0m_engine\u001b[0m\u001b[0;34m.\u001b[0m\u001b[0mget_loc\u001b[0m\u001b[0;34m(\u001b[0m\u001b[0mcasted_key\u001b[0m\u001b[0;34m)\u001b[0m\u001b[0;34m\u001b[0m\u001b[0;34m\u001b[0m\u001b[0m\n\u001b[0m\u001b[1;32m   3806\u001b[0m         \u001b[0;32mexcept\u001b[0m \u001b[0mKeyError\u001b[0m \u001b[0;32mas\u001b[0m \u001b[0merr\u001b[0m\u001b[0;34m:\u001b[0m\u001b[0;34m\u001b[0m\u001b[0;34m\u001b[0m\u001b[0m\n",
            "\u001b[0;32mindex.pyx\u001b[0m in \u001b[0;36mpandas._libs.index.IndexEngine.get_loc\u001b[0;34m()\u001b[0m\n",
            "\u001b[0;32mindex.pyx\u001b[0m in \u001b[0;36mpandas._libs.index.IndexEngine.get_loc\u001b[0;34m()\u001b[0m\n",
            "\u001b[0;32mpandas/_libs/hashtable_class_helper.pxi\u001b[0m in \u001b[0;36mpandas._libs.hashtable.PyObjectHashTable.get_item\u001b[0;34m()\u001b[0m\n",
            "\u001b[0;32mpandas/_libs/hashtable_class_helper.pxi\u001b[0m in \u001b[0;36mpandas._libs.hashtable.PyObjectHashTable.get_item\u001b[0;34m()\u001b[0m\n",
            "\u001b[0;31mKeyError\u001b[0m: -1",
            "\nThe above exception was the direct cause of the following exception:\n",
            "\u001b[0;31mKeyError\u001b[0m                                  Traceback (most recent call last)",
            "\u001b[0;32m<ipython-input-18-16855f98139a>\u001b[0m in \u001b[0;36m<cell line: 1>\u001b[0;34m()\u001b[0m\n\u001b[0;32m----> 1\u001b[0;31m \u001b[0mapple_backtest\u001b[0m \u001b[0;34m=\u001b[0m \u001b[0mbacktest\u001b[0m\u001b[0;34m(\u001b[0m\u001b[0mapple_prices\u001b[0m\u001b[0;34m,\u001b[0m\u001b[0mmoving_average_apple\u001b[0m \u001b[0;34m)\u001b[0m\u001b[0;34m\u001b[0m\u001b[0;34m\u001b[0m\u001b[0m\n\u001b[0m\u001b[1;32m      2\u001b[0m \u001b[0mtesla_backtest\u001b[0m \u001b[0;34m=\u001b[0m \u001b[0mbacktest\u001b[0m\u001b[0;34m(\u001b[0m\u001b[0mtesla_prices\u001b[0m\u001b[0;34m,\u001b[0m \u001b[0mmoving_average_apple\u001b[0m\u001b[0;34m)\u001b[0m\u001b[0;34m\u001b[0m\u001b[0;34m\u001b[0m\u001b[0m\n\u001b[1;32m      3\u001b[0m \u001b[0mpfizer_backtest\u001b[0m \u001b[0;34m=\u001b[0m \u001b[0mbacktest\u001b[0m\u001b[0;34m(\u001b[0m\u001b[0mpfizer_prices\u001b[0m\u001b[0;34m,\u001b[0m \u001b[0mmoving_average_pfizer\u001b[0m\u001b[0;34m)\u001b[0m\u001b[0;34m\u001b[0m\u001b[0;34m\u001b[0m\u001b[0m\n\u001b[1;32m      4\u001b[0m \u001b[0mford_backtest\u001b[0m \u001b[0;34m=\u001b[0m \u001b[0mbacktest\u001b[0m\u001b[0;34m(\u001b[0m\u001b[0mford_prices\u001b[0m\u001b[0;34m,\u001b[0m \u001b[0mmoving_average_ford\u001b[0m\u001b[0;34m)\u001b[0m\u001b[0;34m\u001b[0m\u001b[0;34m\u001b[0m\u001b[0m\n\u001b[1;32m      5\u001b[0m \u001b[0mexxon_backtest\u001b[0m \u001b[0;34m=\u001b[0m \u001b[0mbacktest\u001b[0m\u001b[0;34m(\u001b[0m\u001b[0mexxon_prices\u001b[0m\u001b[0;34m,\u001b[0m \u001b[0mmoving_average_exxon\u001b[0m\u001b[0;34m)\u001b[0m\u001b[0;34m\u001b[0m\u001b[0;34m\u001b[0m\u001b[0m\n",
            "\u001b[0;32m<ipython-input-17-a3b1c1e9e56f>\u001b[0m in \u001b[0;36mbacktest\u001b[0;34m(prices, moving_average, initial_capital, window_size)\u001b[0m\n\u001b[1;32m      6\u001b[0m \u001b[0;34m\u001b[0m\u001b[0m\n\u001b[1;32m      7\u001b[0m     \u001b[0;32mfor\u001b[0m \u001b[0mi\u001b[0m \u001b[0;32min\u001b[0m \u001b[0mrange\u001b[0m\u001b[0;34m(\u001b[0m\u001b[0mwindow_size\u001b[0m\u001b[0;34m,\u001b[0m \u001b[0mlen\u001b[0m\u001b[0;34m(\u001b[0m\u001b[0mprices\u001b[0m\u001b[0;34m)\u001b[0m\u001b[0;34m)\u001b[0m\u001b[0;34m:\u001b[0m\u001b[0;34m\u001b[0m\u001b[0;34m\u001b[0m\u001b[0m\n\u001b[0;32m----> 8\u001b[0;31m         \u001b[0msignal\u001b[0m \u001b[0;34m=\u001b[0m \u001b[0mmean_reversion\u001b[0m\u001b[0;34m(\u001b[0m\u001b[0mprices\u001b[0m\u001b[0;34m[\u001b[0m\u001b[0;34m:\u001b[0m\u001b[0mi\u001b[0m\u001b[0;34m+\u001b[0m\u001b[0;36m1\u001b[0m\u001b[0;34m]\u001b[0m\u001b[0;34m,\u001b[0m \u001b[0mmoving_average\u001b[0m\u001b[0;34m[\u001b[0m\u001b[0;34m:\u001b[0m\u001b[0mi\u001b[0m\u001b[0;34m+\u001b[0m\u001b[0;36m1\u001b[0m\u001b[0;34m]\u001b[0m\u001b[0;34m)\u001b[0m\u001b[0;34m\u001b[0m\u001b[0;34m\u001b[0m\u001b[0m\n\u001b[0m\u001b[1;32m      9\u001b[0m         \u001b[0mcurrent_price\u001b[0m \u001b[0;34m=\u001b[0m \u001b[0mprices\u001b[0m\u001b[0;34m[\u001b[0m\u001b[0mi\u001b[0m\u001b[0;34m]\u001b[0m\u001b[0;34m\u001b[0m\u001b[0;34m\u001b[0m\u001b[0m\n\u001b[1;32m     10\u001b[0m \u001b[0;34m\u001b[0m\u001b[0m\n",
            "\u001b[0;32m<ipython-input-16-094ed26712a2>\u001b[0m in \u001b[0;36mmean_reversion\u001b[0;34m(prices, moving_average)\u001b[0m\n\u001b[1;32m      2\u001b[0m \u001b[0;34m\u001b[0m\u001b[0m\n\u001b[1;32m      3\u001b[0m \u001b[0;32mdef\u001b[0m \u001b[0mmean_reversion\u001b[0m\u001b[0;34m(\u001b[0m\u001b[0mprices\u001b[0m\u001b[0;34m,\u001b[0m \u001b[0mmoving_average\u001b[0m\u001b[0;34m)\u001b[0m\u001b[0;34m:\u001b[0m\u001b[0;34m\u001b[0m\u001b[0;34m\u001b[0m\u001b[0m\n\u001b[0;32m----> 4\u001b[0;31m     \u001b[0;32mif\u001b[0m \u001b[0mprices\u001b[0m\u001b[0;34m[\u001b[0m\u001b[0;34m-\u001b[0m\u001b[0;36m1\u001b[0m\u001b[0;34m]\u001b[0m \u001b[0;34m>\u001b[0m \u001b[0mmoving_average\u001b[0m\u001b[0;34m[\u001b[0m\u001b[0;34m-\u001b[0m\u001b[0;36m1\u001b[0m\u001b[0;34m]\u001b[0m\u001b[0;34m:\u001b[0m\u001b[0;34m\u001b[0m\u001b[0;34m\u001b[0m\u001b[0m\n\u001b[0m\u001b[1;32m      5\u001b[0m         \u001b[0;32mreturn\u001b[0m \u001b[0;34m\"sell\"\u001b[0m\u001b[0;34m\u001b[0m\u001b[0;34m\u001b[0m\u001b[0m\n\u001b[1;32m      6\u001b[0m     \u001b[0;32melif\u001b[0m \u001b[0mprices\u001b[0m\u001b[0;34m[\u001b[0m\u001b[0;34m-\u001b[0m\u001b[0;36m1\u001b[0m\u001b[0;34m]\u001b[0m \u001b[0;34m<\u001b[0m \u001b[0mmoving_average\u001b[0m\u001b[0;34m[\u001b[0m\u001b[0;34m-\u001b[0m\u001b[0;36m1\u001b[0m\u001b[0;34m]\u001b[0m\u001b[0;34m:\u001b[0m\u001b[0;34m\u001b[0m\u001b[0;34m\u001b[0m\u001b[0m\n",
            "\u001b[0;32m/usr/local/lib/python3.10/dist-packages/pandas/core/frame.py\u001b[0m in \u001b[0;36m__getitem__\u001b[0;34m(self, key)\u001b[0m\n\u001b[1;32m   4100\u001b[0m             \u001b[0;32mif\u001b[0m \u001b[0mself\u001b[0m\u001b[0;34m.\u001b[0m\u001b[0mcolumns\u001b[0m\u001b[0;34m.\u001b[0m\u001b[0mnlevels\u001b[0m \u001b[0;34m>\u001b[0m \u001b[0;36m1\u001b[0m\u001b[0;34m:\u001b[0m\u001b[0;34m\u001b[0m\u001b[0;34m\u001b[0m\u001b[0m\n\u001b[1;32m   4101\u001b[0m                 \u001b[0;32mreturn\u001b[0m \u001b[0mself\u001b[0m\u001b[0;34m.\u001b[0m\u001b[0m_getitem_multilevel\u001b[0m\u001b[0;34m(\u001b[0m\u001b[0mkey\u001b[0m\u001b[0;34m)\u001b[0m\u001b[0;34m\u001b[0m\u001b[0;34m\u001b[0m\u001b[0m\n\u001b[0;32m-> 4102\u001b[0;31m             \u001b[0mindexer\u001b[0m \u001b[0;34m=\u001b[0m \u001b[0mself\u001b[0m\u001b[0;34m.\u001b[0m\u001b[0mcolumns\u001b[0m\u001b[0;34m.\u001b[0m\u001b[0mget_loc\u001b[0m\u001b[0;34m(\u001b[0m\u001b[0mkey\u001b[0m\u001b[0;34m)\u001b[0m\u001b[0;34m\u001b[0m\u001b[0;34m\u001b[0m\u001b[0m\n\u001b[0m\u001b[1;32m   4103\u001b[0m             \u001b[0;32mif\u001b[0m \u001b[0mis_integer\u001b[0m\u001b[0;34m(\u001b[0m\u001b[0mindexer\u001b[0m\u001b[0;34m)\u001b[0m\u001b[0;34m:\u001b[0m\u001b[0;34m\u001b[0m\u001b[0;34m\u001b[0m\u001b[0m\n\u001b[1;32m   4104\u001b[0m                 \u001b[0mindexer\u001b[0m \u001b[0;34m=\u001b[0m \u001b[0;34m[\u001b[0m\u001b[0mindexer\u001b[0m\u001b[0;34m]\u001b[0m\u001b[0;34m\u001b[0m\u001b[0;34m\u001b[0m\u001b[0m\n",
            "\u001b[0;32m/usr/local/lib/python3.10/dist-packages/pandas/core/indexes/base.py\u001b[0m in \u001b[0;36mget_loc\u001b[0;34m(self, key)\u001b[0m\n\u001b[1;32m   3810\u001b[0m             ):\n\u001b[1;32m   3811\u001b[0m                 \u001b[0;32mraise\u001b[0m \u001b[0mInvalidIndexError\u001b[0m\u001b[0;34m(\u001b[0m\u001b[0mkey\u001b[0m\u001b[0;34m)\u001b[0m\u001b[0;34m\u001b[0m\u001b[0;34m\u001b[0m\u001b[0m\n\u001b[0;32m-> 3812\u001b[0;31m             \u001b[0;32mraise\u001b[0m \u001b[0mKeyError\u001b[0m\u001b[0;34m(\u001b[0m\u001b[0mkey\u001b[0m\u001b[0;34m)\u001b[0m \u001b[0;32mfrom\u001b[0m \u001b[0merr\u001b[0m\u001b[0;34m\u001b[0m\u001b[0;34m\u001b[0m\u001b[0m\n\u001b[0m\u001b[1;32m   3813\u001b[0m         \u001b[0;32mexcept\u001b[0m \u001b[0mTypeError\u001b[0m\u001b[0;34m:\u001b[0m\u001b[0;34m\u001b[0m\u001b[0;34m\u001b[0m\u001b[0m\n\u001b[1;32m   3814\u001b[0m             \u001b[0;31m# If we have a listlike key, _check_indexing_error will raise\u001b[0m\u001b[0;34m\u001b[0m\u001b[0;34m\u001b[0m\u001b[0m\n",
            "\u001b[0;31mKeyError\u001b[0m: -1"
          ]
        }
      ],
      "source": [
        "apple_backtest = backtest(apple_prices,moving_average_apple )\n",
        "tesla_backtest = backtest(tesla_prices, moving_average_apple)\n",
        "pfizer_backtest = backtest(pfizer_prices, moving_average_pfizer)\n",
        "ford_backtest = backtest(ford_prices, moving_average_ford)\n",
        "exxon_backtest = backtest(exxon_prices, moving_average_exxon)\n",
        "spy_backtest = backtest(spy_prices, moving_average_spy)\n",
        "mcd_backtest = backtest(mcd_prices, moving_average_mcd)"
      ]
    },
    {
      "cell_type": "code",
      "execution_count": null,
      "metadata": {
        "id": "lZllKBUbapyt"
      },
      "outputs": [],
      "source": [
        "\n",
        "def create_plot(stock, ticker):\n",
        "    plt.figure(figsize=(14,7))\n",
        "    plt.plot(stock['Portfolio Value'], label='Portfolio Value', color='blue', linewidth=2)\n",
        "\n",
        "    plt.title(f'Mean Reversion Strategy Backtest with {ticker.upper()} Stock', fontsize=16, fontweight='bold')\n",
        "    plt.xlabel('Date', fontsize=14)\n",
        "    plt.ylabel('Portfolio Value ($)', fontsize=14)\n",
        "\n",
        "\n",
        "    plt.grid(visible=True, linestyle='--', alpha=0.6)\n",
        "    plt.legend(fontsize=12, loc='upper left')\n",
        "    plt.tight_layout()\n",
        "    plt.show()\n",
        "\n",
        "create_plot(apple_backtest, \"AAPL\")\n",
        "create_plot(tesla_backtest, \"TSLA\")\n",
        "create_plot(pfizer_backtest, \"PFE\")\n",
        "create_plot(ford_backtest, \"F\")\n",
        "create_plot(exxon_backtest, \"XOM\")\n",
        "create_plot(spy_backtest, \"SPY\")\n",
        "create_plot(mcd_backtest, \"MCD\")"
      ]
    },
    {
      "cell_type": "markdown",
      "metadata": {
        "id": "C94eazFJapyt"
      },
      "source": []
    },
    {
      "cell_type": "code",
      "execution_count": null,
      "metadata": {
        "id": "Pi46a6Rtapyu"
      },
      "outputs": [],
      "source": [
        "def plot_strategy_vs_control(backtest_results, sp500_data, stock_prices, ticker, initial_capital=10000):\n",
        "    \"\"\"\n",
        "    Overlays the strategy portfolio value with S&P 500 performance and 'Buy and Hold' raw values.\n",
        "\n",
        "    Parameters:\n",
        "    - backtest_results: DataFrame containing the portfolio value over time.\n",
        "    - sp500_data: Series of S&P 500 closing prices over time.\n",
        "    - stock_prices: Series of stock prices for the stock being analyzed.\n",
        "    - ticker: Stock ticker (string).\n",
        "    - initial_capital: Starting amount of money for 'Buy and Hold'.\n",
        "    \"\"\"\n",
        "\n",
        "    common_index = backtest_results.index.intersection(sp500_data.index).intersection(stock_prices.index)\n",
        "    backtest_results = backtest_results.loc[common_index]\n",
        "    #sp500_data = sp500_data.loc[common_index]\n",
        "    stock_prices = stock_prices.loc[common_index]\n",
        "\n",
        "    #  Buy and Hold Portfolio Value\n",
        "    buy_and_hold_shares = initial_capital / stock_prices.iloc[0]\n",
        "    buy_and_hold_value = stock_prices * buy_and_hold_shares\n",
        "\n",
        "\n",
        "    sp500_normalized = sp500_data * initial_capital / sp500_data.iloc[0]\n",
        "\n",
        "    # Plot all values\n",
        "    plt.figure(figsize=(14, 7))\n",
        "    plt.plot(backtest_results.index, backtest_results['Portfolio Value'], label='Mean Revision', color='blue', linewidth=2)\n",
        "    #plt.plot(sp500_normalized.index, sp500_normalized, label='S&P 500 Index', color='orange', linestyle='--', linewidth=2)\n",
        "    plt.plot(stock_prices.index, buy_and_hold_value, label='Buy and Hold ', color='green', linestyle='-.', linewidth=2)\n",
        "\n",
        "    plt.title(f'Strategy for {ticker.upper()} vs. Control Strategy (Buy and Hold)', fontsize=16, fontweight='bold')\n",
        "    plt.xlabel('Date', fontsize=14)\n",
        "    plt.ylabel('Portfolio Value ($)', fontsize=14)\n",
        "    plt.legend(fontsize=12)\n",
        "    plt.grid(visible=True, linestyle='--', alpha=0.6)\n",
        "    plt.tight_layout()\n",
        "    plt.show()\n"
      ]
    },
    {
      "cell_type": "code",
      "execution_count": null,
      "metadata": {
        "id": "xPnZysSfapyu"
      },
      "outputs": [],
      "source": [
        "\n",
        "plot_strategy_vs_control(apple_backtest, sp500_close, apple_prices, \"AAPL\")\n",
        "plot_strategy_vs_control(tesla_backtest, sp500_close, tesla_prices, \"TSLA\")\n",
        "plot_strategy_vs_control(pfizer_backtest, sp500_close, pfizer_prices, \"PFE\")\n",
        "plot_strategy_vs_control(ford_backtest, sp500_close, ford_prices, \"F\")\n",
        "plot_strategy_vs_control(exxon_backtest, sp500_close, exxon_prices, \"XOM\")\n",
        "plot_strategy_vs_control(mcd_backtest, sp500_close, mcd_prices, \"MCD\")\n"
      ]
    },
    {
      "cell_type": "code",
      "execution_count": null,
      "metadata": {
        "id": "2GrPlOfSapyu"
      },
      "outputs": [],
      "source": [
        "\n",
        "\n",
        "stocks = {\n",
        "    \"AAPL\": {\n",
        "        \"backtest\": apple_backtest,\n",
        "        \"prices\": apple_prices\n",
        "    },\n",
        "    \"TSLA\": {\n",
        "        \"backtest\": tesla_backtest,\n",
        "        \"prices\": tesla_prices\n",
        "    },\n",
        "\n",
        "        \"PFE\": {\n",
        "        \"backtest\": pfizer_backtest,\n",
        "        \"prices\": pfizer_prices\n",
        "    },\n",
        "            \"PFE\": {\n",
        "        \"backtest\": pfizer_backtest,\n",
        "        \"prices\": pfizer_prices\n",
        "    },\n",
        "                \"XOM\": {\n",
        "        \"backtest\": exxon_backtest,\n",
        "        \"prices\": exxon_prices\n",
        "    },\n",
        "                    \"MCD\": {\n",
        "        \"backtest\": mcd_backtest,\n",
        "        \"prices\": mcd_prices\n",
        "    },\n",
        "}\n",
        "\n",
        "control_returns = []\n",
        "mean_reversion_returns = []\n",
        "\n",
        "# Calculate and store the returns for each stock\n",
        "for stock, data in stocks.items():\n",
        "    backtest = data[\"backtest\"]\n",
        "    mean_reversion_return = (\n",
        "        (backtest['Portfolio Value'].iloc[-1] - backtest['Portfolio Value'].iloc[0])\n",
        "        / backtest['Portfolio Value'].iloc[0]\n",
        "    ) * 100\n",
        "\n",
        "    prices = data[\"prices\"]\n",
        "    control_return = (\n",
        "        (prices.iloc[-1] - prices.iloc[0]) / prices.iloc[0]\n",
        "    ) * 100\n",
        "\n",
        "    mean_reversion_returns.append(mean_reversion_return)\n",
        "    control_returns.append(control_return)\n",
        "\n",
        "# Print out the returns in a table format\n",
        "print(f\"{'Stock':<6} {'Control Return (%)':<20} {'Mean Reversion Return (%)':<25}\")\n",
        "print(\"-\" * 55)\n",
        "for stock, control, mean_reversion in zip(stocks.keys(), control_returns, mean_reversion_returns):\n",
        "    print(f\"{stock:<6} {control:<20.2f} {mean_reversion:<25.2f}\")\n",
        "\n",
        "# Plot the bar graph\n",
        "x = np.arange(len(stocks))\n",
        "width = 0.35\n",
        "\n",
        "plt.figure(figsize=(10, 6))\n",
        "plt.bar(x - width/2, control_returns, width, label='Control Strategy (Buy and Hold)', color='blue')\n",
        "plt.bar(x + width/2, mean_reversion_returns, width, label='Mean Reversion Strategy', color='orange')\n",
        "\n",
        "plt.xlabel('Stocks')\n",
        "plt.ylabel('Returns (%)')\n",
        "plt.title('Comparison of Returns: Control vs Mean Reversion Strategy')\n",
        "plt.xticks(x, stocks.keys())\n",
        "plt.legend()\n",
        "plt.grid(axis='y', linestyle='--', alpha=0.7)\n",
        "\n",
        "plt.tight_layout()\n",
        "plt.show()"
      ]
    }
  ],
  "metadata": {
    "kernelspec": {
      "display_name": "info2950",
      "language": "python",
      "name": "python3"
    },
    "language_info": {
      "codemirror_mode": {
        "name": "ipython",
        "version": 3
      },
      "file_extension": ".py",
      "mimetype": "text/x-python",
      "name": "python",
      "nbconvert_exporter": "python",
      "pygments_lexer": "ipython3",
      "version": "3.12.2"
    },
    "colab": {
      "provenance": []
    }
  },
  "nbformat": 4,
  "nbformat_minor": 0
}